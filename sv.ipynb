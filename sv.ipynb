{
 "cells": [
  {
   "cell_type": "markdown",
   "metadata": {},
   "source": [
    "Import Pandas for working with data"
   ]
  },
  {
   "cell_type": "code",
   "execution_count": 58,
   "metadata": {
    "collapsed": true
   },
   "outputs": [],
   "source": [
    "import pandas as pd\n",
    "from pandas import DataFrame\n",
    "import dateutil.parser as parser\n"
   ]
  },
  {
   "cell_type": "markdown",
   "metadata": {},
   "source": [
    "Read in CSV file "
   ]
  },
  {
   "cell_type": "code",
   "execution_count": 59,
   "metadata": {
    "collapsed": false
   },
   "outputs": [],
   "source": [
    " df=pd.read_csv('sv.csv')"
   ]
  },
  {
   "cell_type": "code",
   "execution_count": 60,
   "metadata": {
    "collapsed": false
   },
   "outputs": [
    {
     "name": "stdout",
     "output_type": "stream",
     "text": [
      "      Company   Month  New Employess\n",
      "0       Hooli  Jan-14            450\n",
      "1       Hooli  Feb-14            200\n",
      "2       Hooli  Mar-14            -30\n",
      "3  Pied Piper  Jan-14              1\n",
      "4  Pied Piper  Feb-14              2\n",
      "5  Pied Piper  Mar-14             10\n",
      "6      Raviga  Jan-14             20\n",
      "7      Raviga  Feb-14             10\n",
      "8      Raviga  Mar-14             -1\n"
     ]
    }
   ],
   "source": [
    "print df"
   ]
  },
  {
   "cell_type": "code",
   "execution_count": 64,
   "metadata": {
    "collapsed": false
   },
   "outputs": [],
   "source": [
    "# Make sure date is rendered correctly. \n",
    "df['Month'] = pd.to_datetime(df['Month'])"
   ]
  },
  {
   "cell_type": "code",
   "execution_count": 65,
   "metadata": {
    "collapsed": false
   },
   "outputs": [
    {
     "name": "stdout",
     "output_type": "stream",
     "text": [
      "Company                  object\n",
      "Month            datetime64[ns]\n",
      "New Employess             int64\n",
      "dtype: object\n"
     ]
    }
   ],
   "source": [
    "#date type check \n",
    "print df.dtypes"
   ]
  },
  {
   "cell_type": "code",
   "execution_count": 68,
   "metadata": {
    "collapsed": false
   },
   "outputs": [
    {
     "name": "stdout",
     "output_type": "stream",
     "text": [
      "                       New Employess\n",
      "Company    Month                    \n",
      "Hooli      2015-01-14            450\n",
      "           2015-02-14            650\n",
      "           2015-03-14            620\n",
      "Pied Piper 2015-01-14              1\n",
      "           2015-02-14              3\n",
      "           2015-03-14             13\n",
      "Raviga     2015-01-14             20\n",
      "           2015-02-14             30\n",
      "           2015-03-14             29\n"
     ]
    }
   ],
   "source": [
    "print df.groupby(by=['Company','Month']).sum().groupby(level=[0]).cumsum()"
   ]
  },
  {
   "cell_type": "code",
   "execution_count": null,
   "metadata": {
    "collapsed": true
   },
   "outputs": [],
   "source": []
  }
 ],
 "metadata": {
  "kernelspec": {
   "display_name": "Python 2",
   "language": "python",
   "name": "python2"
  },
  "language_info": {
   "codemirror_mode": {
    "name": "ipython",
    "version": 2
   },
   "file_extension": ".py",
   "mimetype": "text/x-python",
   "name": "python",
   "nbconvert_exporter": "python",
   "pygments_lexer": "ipython2",
   "version": "2.7.9"
  }
 },
 "nbformat": 4,
 "nbformat_minor": 0
}
