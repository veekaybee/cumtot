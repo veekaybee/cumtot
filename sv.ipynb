{
 "cells": [
  {
   "cell_type": "markdown",
   "metadata": {},
   "source": [
    "##Import Pandas for working with data"
   ]
  },
  {
   "cell_type": "code",
   "execution_count": 84,
   "metadata": {
    "collapsed": true
   },
   "outputs": [],
   "source": [
    "import pandas as pd\n",
    "from pandas import DataFrame\n",
    "import dateutil.parser as parser\n"
   ]
  },
  {
   "cell_type": "markdown",
   "metadata": {},
   "source": [
    "##Read in CSV file "
   ]
  },
  {
   "cell_type": "code",
   "execution_count": 103,
   "metadata": {
    "collapsed": false
   },
   "outputs": [],
   "source": [
    " df=pd.read_csv('sv.csv')"
   ]
  },
  {
   "cell_type": "code",
   "execution_count": 104,
   "metadata": {
    "collapsed": false,
    "scrolled": true
   },
   "outputs": [
    {
     "name": "stdout",
     "output_type": "stream",
     "text": [
      "      Company   Month  New Employess\n",
      "0       Hooli  14-Jan         123456\n",
      "1       Hooli  14-Feb           1434\n",
      "2       Hooli  14-Mar           2455\n",
      "3  Pied Piper  14-Jan              1\n",
      "4  Pied Piper  14-Feb              2\n",
      "5  Pied Piper  14-Mar              2\n",
      "6      Raviga  14-Jan             50\n",
      "7      Raviga  14-Feb             48\n",
      "8      Raviga  14-Mar             65\n"
     ]
    }
   ],
   "source": [
    "print df"
   ]
  },
  {
   "cell_type": "markdown",
   "metadata": {},
   "source": [
    "##Make sure date and number values are rendered correctly from CSV file"
   ]
  },
  {
   "cell_type": "code",
   "execution_count": 105,
   "metadata": {
    "collapsed": false
   },
   "outputs": [
    {
     "data": {
      "text/html": [
       "<div style=\"max-height:1000px;max-width:1500px;overflow:auto;\">\n",
       "<table border=\"1\" class=\"dataframe\">\n",
       "  <thead>\n",
       "    <tr style=\"text-align: right;\">\n",
       "      <th></th>\n",
       "      <th>Company</th>\n",
       "      <th>Month</th>\n",
       "      <th>New Employess</th>\n",
       "    </tr>\n",
       "  </thead>\n",
       "  <tbody>\n",
       "    <tr>\n",
       "      <th>0</th>\n",
       "      <td>      Hooli</td>\n",
       "      <td>2015-01-14</td>\n",
       "      <td> 123456</td>\n",
       "    </tr>\n",
       "    <tr>\n",
       "      <th>1</th>\n",
       "      <td>      Hooli</td>\n",
       "      <td>2015-02-14</td>\n",
       "      <td>   1434</td>\n",
       "    </tr>\n",
       "    <tr>\n",
       "      <th>2</th>\n",
       "      <td>      Hooli</td>\n",
       "      <td>2015-03-14</td>\n",
       "      <td>   2455</td>\n",
       "    </tr>\n",
       "    <tr>\n",
       "      <th>3</th>\n",
       "      <td> Pied Piper</td>\n",
       "      <td>2015-01-14</td>\n",
       "      <td>      1</td>\n",
       "    </tr>\n",
       "    <tr>\n",
       "      <th>4</th>\n",
       "      <td> Pied Piper</td>\n",
       "      <td>2015-02-14</td>\n",
       "      <td>      2</td>\n",
       "    </tr>\n",
       "    <tr>\n",
       "      <th>5</th>\n",
       "      <td> Pied Piper</td>\n",
       "      <td>2015-03-14</td>\n",
       "      <td>      2</td>\n",
       "    </tr>\n",
       "    <tr>\n",
       "      <th>6</th>\n",
       "      <td>     Raviga</td>\n",
       "      <td>2015-01-14</td>\n",
       "      <td>     50</td>\n",
       "    </tr>\n",
       "    <tr>\n",
       "      <th>7</th>\n",
       "      <td>     Raviga</td>\n",
       "      <td>2015-02-14</td>\n",
       "      <td>     48</td>\n",
       "    </tr>\n",
       "    <tr>\n",
       "      <th>8</th>\n",
       "      <td>     Raviga</td>\n",
       "      <td>2015-03-14</td>\n",
       "      <td>     65</td>\n",
       "    </tr>\n",
       "  </tbody>\n",
       "</table>\n",
       "</div>"
      ],
      "text/plain": [
       "      Company      Month  New Employess\n",
       "0       Hooli 2015-01-14         123456\n",
       "1       Hooli 2015-02-14           1434\n",
       "2       Hooli 2015-03-14           2455\n",
       "3  Pied Piper 2015-01-14              1\n",
       "4  Pied Piper 2015-02-14              2\n",
       "5  Pied Piper 2015-03-14              2\n",
       "6      Raviga 2015-01-14             50\n",
       "7      Raviga 2015-02-14             48\n",
       "8      Raviga 2015-03-14             65"
      ]
     },
     "execution_count": 105,
     "metadata": {},
     "output_type": "execute_result"
    }
   ],
   "source": [
    "\n",
    "df['Month'] = pd.to_datetime(df['Month'])\n",
    "df.convert_objects(convert_numeric=True)"
   ]
  },
  {
   "cell_type": "markdown",
   "metadata": {},
   "source": [
    "##check each column's datatype"
   ]
  },
  {
   "cell_type": "code",
   "execution_count": 106,
   "metadata": {
    "collapsed": false
   },
   "outputs": [
    {
     "name": "stdout",
     "output_type": "stream",
     "text": [
      "Company                  object\n",
      "Month            datetime64[ns]\n",
      "New Employess           float64\n",
      "dtype: object\n"
     ]
    }
   ],
   "source": [
    "\n",
    "print df.dtypes"
   ]
  },
  {
   "cell_type": "code",
   "execution_count": 108,
   "metadata": {
    "collapsed": false
   },
   "outputs": [
    {
     "name": "stdout",
     "output_type": "stream",
     "text": [
      "                       New Employess\n",
      "Company    Month                    \n",
      "Hooli      2015-01-14         123456\n",
      "           2015-02-14         124890\n",
      "           2015-03-14         127345\n",
      "Pied Piper 2015-01-14              1\n",
      "           2015-02-14              3\n",
      "           2015-03-14              5\n",
      "Raviga     2015-01-14             50\n",
      "           2015-02-14             98\n",
      "           2015-03-14            163\n"
     ]
    }
   ],
   "source": [
    "print df.groupby(by=['Company','Month']).sum().groupby(level=[0]).cumsum()"
   ]
  }
 ],
 "metadata": {
  "kernelspec": {
   "display_name": "Python 2",
   "language": "python",
   "name": "python2"
  },
  "language_info": {
   "codemirror_mode": {
    "name": "ipython",
    "version": 2
   },
   "file_extension": ".py",
   "mimetype": "text/x-python",
   "name": "python",
   "nbconvert_exporter": "python",
   "pygments_lexer": "ipython2",
   "version": "2.7.9"
  }
 },
 "nbformat": 4,
 "nbformat_minor": 0
}
